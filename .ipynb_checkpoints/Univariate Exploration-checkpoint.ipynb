{
 "cells": [
  {
   "cell_type": "markdown",
   "metadata": {},
   "source": [
    "# Python Ecosystem for Data Visualization"
   ]
  },
  {
   "cell_type": "markdown",
   "metadata": {},
   "source": [
    "## Univariate Analysis\n",
    "\n",
    "How we start our exploration. We look at one variable at a time so we can build an intuiton about how the data is distributed before we look at how they complex relationships are.\n",
    "\n",
    "We will focus on: Bar charts for qualitative variables and histograms for quantitative variables.\n",
    "\n",
    "Data types make these data types distinct"
   ]
  },
  {
   "cell_type": "markdown",
   "metadata": {},
   "source": [
    "### Bar Chart\n",
    "\n",
    "Each categorical variable will be on the x axis and the height is the frequency or count for each categorical value.\n",
    "\n",
    "We should always start from 0  to avoid distortion\n",
    "\n",
    "Form nominal data it is usually a good idea to display them in order of frequency with the most common on the left\n",
    "\n",
    "Ordinal data usually we keep them in their natural order.\n",
    "\n",
    "Horizontal bar chart. Y axis is category and x is frequency. This conveys same thing but is useful if we have lots of categories or the names are long"
   ]
  },
  {
   "cell_type": "code",
   "execution_count": 28,
   "metadata": {},
   "outputs": [],
   "source": [
    "import numpy as np\n",
    "import pandas as pd\n",
    "import matplotlib.pyplot as plt\n",
    "import seaborn as sb\n",
    "\n",
    "%matplotlib inline"
   ]
  },
  {
   "cell_type": "code",
   "execution_count": 29,
   "metadata": {},
   "outputs": [
    {
     "name": "stdout",
     "output_type": "stream",
     "text": [
      "(807, 14)\n"
     ]
    },
    {
     "data": {
      "text/html": [
       "<div>\n",
       "<style scoped>\n",
       "    .dataframe tbody tr th:only-of-type {\n",
       "        vertical-align: middle;\n",
       "    }\n",
       "\n",
       "    .dataframe tbody tr th {\n",
       "        vertical-align: top;\n",
       "    }\n",
       "\n",
       "    .dataframe thead th {\n",
       "        text-align: right;\n",
       "    }\n",
       "</style>\n",
       "<table border=\"1\" class=\"dataframe\">\n",
       "  <thead>\n",
       "    <tr style=\"text-align: right;\">\n",
       "      <th></th>\n",
       "      <th>id</th>\n",
       "      <th>species</th>\n",
       "      <th>generation_id</th>\n",
       "      <th>height</th>\n",
       "      <th>weight</th>\n",
       "      <th>base_experience</th>\n",
       "      <th>type_1</th>\n",
       "      <th>type_2</th>\n",
       "      <th>hp</th>\n",
       "      <th>attack</th>\n",
       "      <th>defense</th>\n",
       "      <th>speed</th>\n",
       "      <th>special-attack</th>\n",
       "      <th>special-defense</th>\n",
       "    </tr>\n",
       "  </thead>\n",
       "  <tbody>\n",
       "    <tr>\n",
       "      <th>0</th>\n",
       "      <td>1</td>\n",
       "      <td>bulbasaur</td>\n",
       "      <td>1</td>\n",
       "      <td>0.7</td>\n",
       "      <td>6.9</td>\n",
       "      <td>64</td>\n",
       "      <td>grass</td>\n",
       "      <td>poison</td>\n",
       "      <td>45</td>\n",
       "      <td>49</td>\n",
       "      <td>49</td>\n",
       "      <td>45</td>\n",
       "      <td>65</td>\n",
       "      <td>65</td>\n",
       "    </tr>\n",
       "    <tr>\n",
       "      <th>1</th>\n",
       "      <td>2</td>\n",
       "      <td>ivysaur</td>\n",
       "      <td>1</td>\n",
       "      <td>1.0</td>\n",
       "      <td>13.0</td>\n",
       "      <td>142</td>\n",
       "      <td>grass</td>\n",
       "      <td>poison</td>\n",
       "      <td>60</td>\n",
       "      <td>62</td>\n",
       "      <td>63</td>\n",
       "      <td>60</td>\n",
       "      <td>80</td>\n",
       "      <td>80</td>\n",
       "    </tr>\n",
       "    <tr>\n",
       "      <th>2</th>\n",
       "      <td>3</td>\n",
       "      <td>venusaur</td>\n",
       "      <td>1</td>\n",
       "      <td>2.0</td>\n",
       "      <td>100.0</td>\n",
       "      <td>236</td>\n",
       "      <td>grass</td>\n",
       "      <td>poison</td>\n",
       "      <td>80</td>\n",
       "      <td>82</td>\n",
       "      <td>83</td>\n",
       "      <td>80</td>\n",
       "      <td>100</td>\n",
       "      <td>100</td>\n",
       "    </tr>\n",
       "    <tr>\n",
       "      <th>3</th>\n",
       "      <td>4</td>\n",
       "      <td>charmander</td>\n",
       "      <td>1</td>\n",
       "      <td>0.6</td>\n",
       "      <td>8.5</td>\n",
       "      <td>62</td>\n",
       "      <td>fire</td>\n",
       "      <td>NaN</td>\n",
       "      <td>39</td>\n",
       "      <td>52</td>\n",
       "      <td>43</td>\n",
       "      <td>65</td>\n",
       "      <td>60</td>\n",
       "      <td>50</td>\n",
       "    </tr>\n",
       "    <tr>\n",
       "      <th>4</th>\n",
       "      <td>5</td>\n",
       "      <td>charmeleon</td>\n",
       "      <td>1</td>\n",
       "      <td>1.1</td>\n",
       "      <td>19.0</td>\n",
       "      <td>142</td>\n",
       "      <td>fire</td>\n",
       "      <td>NaN</td>\n",
       "      <td>58</td>\n",
       "      <td>64</td>\n",
       "      <td>58</td>\n",
       "      <td>80</td>\n",
       "      <td>80</td>\n",
       "      <td>65</td>\n",
       "    </tr>\n",
       "    <tr>\n",
       "      <th>5</th>\n",
       "      <td>6</td>\n",
       "      <td>charizard</td>\n",
       "      <td>1</td>\n",
       "      <td>1.7</td>\n",
       "      <td>90.5</td>\n",
       "      <td>240</td>\n",
       "      <td>fire</td>\n",
       "      <td>flying</td>\n",
       "      <td>78</td>\n",
       "      <td>84</td>\n",
       "      <td>78</td>\n",
       "      <td>100</td>\n",
       "      <td>109</td>\n",
       "      <td>85</td>\n",
       "    </tr>\n",
       "    <tr>\n",
       "      <th>6</th>\n",
       "      <td>7</td>\n",
       "      <td>squirtle</td>\n",
       "      <td>1</td>\n",
       "      <td>0.5</td>\n",
       "      <td>9.0</td>\n",
       "      <td>63</td>\n",
       "      <td>water</td>\n",
       "      <td>NaN</td>\n",
       "      <td>44</td>\n",
       "      <td>48</td>\n",
       "      <td>65</td>\n",
       "      <td>43</td>\n",
       "      <td>50</td>\n",
       "      <td>64</td>\n",
       "    </tr>\n",
       "    <tr>\n",
       "      <th>7</th>\n",
       "      <td>8</td>\n",
       "      <td>wartortle</td>\n",
       "      <td>1</td>\n",
       "      <td>1.0</td>\n",
       "      <td>22.5</td>\n",
       "      <td>142</td>\n",
       "      <td>water</td>\n",
       "      <td>NaN</td>\n",
       "      <td>59</td>\n",
       "      <td>63</td>\n",
       "      <td>80</td>\n",
       "      <td>58</td>\n",
       "      <td>65</td>\n",
       "      <td>80</td>\n",
       "    </tr>\n",
       "    <tr>\n",
       "      <th>8</th>\n",
       "      <td>9</td>\n",
       "      <td>blastoise</td>\n",
       "      <td>1</td>\n",
       "      <td>1.6</td>\n",
       "      <td>85.5</td>\n",
       "      <td>239</td>\n",
       "      <td>water</td>\n",
       "      <td>NaN</td>\n",
       "      <td>79</td>\n",
       "      <td>83</td>\n",
       "      <td>100</td>\n",
       "      <td>78</td>\n",
       "      <td>85</td>\n",
       "      <td>105</td>\n",
       "    </tr>\n",
       "    <tr>\n",
       "      <th>9</th>\n",
       "      <td>10</td>\n",
       "      <td>caterpie</td>\n",
       "      <td>1</td>\n",
       "      <td>0.3</td>\n",
       "      <td>2.9</td>\n",
       "      <td>39</td>\n",
       "      <td>bug</td>\n",
       "      <td>NaN</td>\n",
       "      <td>45</td>\n",
       "      <td>30</td>\n",
       "      <td>35</td>\n",
       "      <td>45</td>\n",
       "      <td>20</td>\n",
       "      <td>20</td>\n",
       "    </tr>\n",
       "  </tbody>\n",
       "</table>\n",
       "</div>"
      ],
      "text/plain": [
       "   id     species  generation_id  height  weight  base_experience type_1  \\\n",
       "0   1   bulbasaur              1     0.7     6.9               64  grass   \n",
       "1   2     ivysaur              1     1.0    13.0              142  grass   \n",
       "2   3    venusaur              1     2.0   100.0              236  grass   \n",
       "3   4  charmander              1     0.6     8.5               62   fire   \n",
       "4   5  charmeleon              1     1.1    19.0              142   fire   \n",
       "5   6   charizard              1     1.7    90.5              240   fire   \n",
       "6   7    squirtle              1     0.5     9.0               63  water   \n",
       "7   8   wartortle              1     1.0    22.5              142  water   \n",
       "8   9   blastoise              1     1.6    85.5              239  water   \n",
       "9  10    caterpie              1     0.3     2.9               39    bug   \n",
       "\n",
       "   type_2  hp  attack  defense  speed  special-attack  special-defense  \n",
       "0  poison  45      49       49     45              65               65  \n",
       "1  poison  60      62       63     60              80               80  \n",
       "2  poison  80      82       83     80             100              100  \n",
       "3     NaN  39      52       43     65              60               50  \n",
       "4     NaN  58      64       58     80              80               65  \n",
       "5  flying  78      84       78    100             109               85  \n",
       "6     NaN  44      48       65     43              50               64  \n",
       "7     NaN  59      63       80     58              65               80  \n",
       "8     NaN  79      83      100     78              85              105  \n",
       "9     NaN  45      30       35     45              20               20  "
      ]
     },
     "execution_count": 29,
     "metadata": {},
     "output_type": "execute_result"
    }
   ],
   "source": [
    "pokemon = pd.read_csv(\"pokemon.csv\")\n",
    "print(pokemon.shape)\n",
    "pokemon.head(10)"
   ]
  },
  {
   "cell_type": "code",
   "execution_count": 30,
   "metadata": {},
   "outputs": [
    {
     "data": {
      "image/png": "[encoded data removed]",
      "text/plain": [
       "<Figure size 432x288 with 1 Axes>"
      ]
     },
     "metadata": {
      "needs_background": "light"
     },
     "output_type": "display_data"
    }
   ],
   "source": [
    "# This will create bar chart\n",
    "\n",
    "# Categorical ordinal bar chart: generation id (1-7)\n",
    "\n",
    "base_color = sb.color_palette()[0]\n",
    "gen_order = pokemon[\"generation_id\"].value_counts().index\n",
    "\n",
    "sb.countplot(data=pokemon, x='generation_id', color=base_color,\n",
    "            order=gen_order);\n"
   ]
  },
  {
   "cell_type": "code",
   "execution_count": 31,
   "metadata": {},
   "outputs": [
    {
     "data": {
      "image/png": "[encoded data removed]",
      "text/plain": [
       "<Figure size 432x288 with 1 Axes>"
      ]
     },
     "metadata": {
      "needs_background": "light"
     },
     "output_type": "display_data"
    }
   ],
   "source": [
    "# Categorical Nominal: Pokemon types (1st  type)\n",
    "\n",
    "# Using rotation to fix labels\n",
    "base_color = sb.color_palette()[0]\n",
    "sb.countplot(data = pokemon, x =\"type_1\", color=base_color);\n",
    "plt.xticks(rotation=90);\n",
    "\n"
   ]
  },
  {
   "cell_type": "code",
   "execution_count": 32,
   "metadata": {},
   "outputs": [
    {
     "data": {
      "image/png": "[encoded data removed]",
      "text/plain": [
       "<Figure size 432x288 with 1 Axes>"
      ]
     },
     "metadata": {
      "needs_background": "light"
     },
     "output_type": "display_data"
    }
   ],
   "source": [
    "base_color = sb.color_palette()[0]\n",
    "sb.countplot(data = pokemon, y =\"type_1\",\n",
    "             color=base_color,\n",
    "             order=pokemon[\"type_1\"].value_counts().index);\n",
    "plt.title(\"Most Common First Pokemon  Type\");"
   ]
  },
  {
   "cell_type": "markdown",
   "metadata": {},
   "source": [
    "### Absolute vs Relative Frequencies\n",
    "\n",
    "Absolute frequency we saw above, length access has number of data points\n",
    "\n",
    "Relative frequency is what porportion of data falls in each category. This  allows us to see how each categoty contributes to the whole."
   ]
  },
  {
   "cell_type": "code",
   "execution_count": 33,
   "metadata": {},
   "outputs": [
    {
     "name": "stdout",
     "output_type": "stream",
     "text": [
      "(402, 4) (405, 4)\n"
     ]
    }
   ],
   "source": [
    "wrangle_poke = pokemon[[\"id\", \"species\", \"type_1\", \"type_2\"]].copy()\n",
    "has_type_2, no_type_2 = (wrangle_poke[wrangle_poke[\"type_2\"].notna()],\n",
    "                        wrangle_poke[~wrangle_poke[\"type_2\"].notna()])\n",
    "wrangle_poke_fin = no_type_2.copy()\n",
    "print(no_type_2.shape, has_type_2.shape)"
   ]
  },
  {
   "cell_type": "code",
   "execution_count": 34,
   "metadata": {},
   "outputs": [
    {
     "data": {
      "text/html": [
       "<div>\n",
       "<style scoped>\n",
       "    .dataframe tbody tr th:only-of-type {\n",
       "        vertical-align: middle;\n",
       "    }\n",
       "\n",
       "    .dataframe tbody tr th {\n",
       "        vertical-align: top;\n",
       "    }\n",
       "\n",
       "    .dataframe thead th {\n",
       "        text-align: right;\n",
       "    }\n",
       "</style>\n",
       "<table border=\"1\" class=\"dataframe\">\n",
       "  <thead>\n",
       "    <tr style=\"text-align: right;\">\n",
       "      <th></th>\n",
       "      <th>id</th>\n",
       "      <th>species</th>\n",
       "      <th>type</th>\n",
       "      <th>type_level</th>\n",
       "    </tr>\n",
       "  </thead>\n",
       "  <tbody>\n",
       "    <tr>\n",
       "      <th>3</th>\n",
       "      <td>4</td>\n",
       "      <td>charmander</td>\n",
       "      <td>fire</td>\n",
       "      <td>type_1</td>\n",
       "    </tr>\n",
       "    <tr>\n",
       "      <th>4</th>\n",
       "      <td>5</td>\n",
       "      <td>charmeleon</td>\n",
       "      <td>fire</td>\n",
       "      <td>type_1</td>\n",
       "    </tr>\n",
       "    <tr>\n",
       "      <th>6</th>\n",
       "      <td>7</td>\n",
       "      <td>squirtle</td>\n",
       "      <td>water</td>\n",
       "      <td>type_1</td>\n",
       "    </tr>\n",
       "    <tr>\n",
       "      <th>7</th>\n",
       "      <td>8</td>\n",
       "      <td>wartortle</td>\n",
       "      <td>water</td>\n",
       "      <td>type_1</td>\n",
       "    </tr>\n",
       "    <tr>\n",
       "      <th>8</th>\n",
       "      <td>9</td>\n",
       "      <td>blastoise</td>\n",
       "      <td>water</td>\n",
       "      <td>type_1</td>\n",
       "    </tr>\n",
       "    <tr>\n",
       "      <th>...</th>\n",
       "      <td>...</td>\n",
       "      <td>...</td>\n",
       "      <td>...</td>\n",
       "      <td>...</td>\n",
       "    </tr>\n",
       "    <tr>\n",
       "      <th>789</th>\n",
       "      <td>790</td>\n",
       "      <td>cosmoem</td>\n",
       "      <td>psychic</td>\n",
       "      <td>type_1</td>\n",
       "    </tr>\n",
       "    <tr>\n",
       "      <th>795</th>\n",
       "      <td>796</td>\n",
       "      <td>xurkitree</td>\n",
       "      <td>electric</td>\n",
       "      <td>type_1</td>\n",
       "    </tr>\n",
       "    <tr>\n",
       "      <th>799</th>\n",
       "      <td>800</td>\n",
       "      <td>necrozma</td>\n",
       "      <td>psychic</td>\n",
       "      <td>type_1</td>\n",
       "    </tr>\n",
       "    <tr>\n",
       "      <th>802</th>\n",
       "      <td>803</td>\n",
       "      <td>poipole</td>\n",
       "      <td>poison</td>\n",
       "      <td>type_1</td>\n",
       "    </tr>\n",
       "    <tr>\n",
       "      <th>806</th>\n",
       "      <td>807</td>\n",
       "      <td>zeraora</td>\n",
       "      <td>electric</td>\n",
       "      <td>type_1</td>\n",
       "    </tr>\n",
       "  </tbody>\n",
       "</table>\n",
       "<p>402 rows × 4 columns</p>\n",
       "</div>"
      ],
      "text/plain": [
       "      id     species      type type_level\n",
       "3      4  charmander      fire     type_1\n",
       "4      5  charmeleon      fire     type_1\n",
       "6      7    squirtle     water     type_1\n",
       "7      8   wartortle     water     type_1\n",
       "8      9   blastoise     water     type_1\n",
       "..   ...         ...       ...        ...\n",
       "789  790     cosmoem   psychic     type_1\n",
       "795  796   xurkitree  electric     type_1\n",
       "799  800    necrozma   psychic     type_1\n",
       "802  803     poipole    poison     type_1\n",
       "806  807     zeraora  electric     type_1\n",
       "\n",
       "[402 rows x 4 columns]"
      ]
     },
     "execution_count": 34,
     "metadata": {},
     "output_type": "execute_result"
    }
   ],
   "source": [
    "wrangle_poke_fin[\"type_level\"] = \"type_1\"\n",
    "wrangle_poke_fin.rename(columns={\"type_1\": \"type\"}, inplace=True)\n",
    "wrangle_poke_fin.drop([\"type_2\"], axis=1,inplace=True)\n",
    "wrangle_poke_fin"
   ]
  },
  {
   "cell_type": "code",
   "execution_count": 35,
   "metadata": {},
   "outputs": [],
   "source": [
    "for _,  row in has_type_2.iterrows():\n",
    "    i, spe, type_1, type_2 = row\n",
    "    wrangle_poke_fin = wrangle_poke_fin.append({\"id\": i, \"species\": spe,\n",
    "                             \"type\": type_1, \"type_level\": \"type_1\"},\n",
    "                           ignore_index=True)\n",
    "    wrangle_poke_fin = wrangle_poke_fin.append({\"id\": i, \"species\": spe,\n",
    "                             \"type\": type_2, \"type_level\": \"type_2\"},\n",
    "                           ignore_index=True)\n",
    "    "
   ]
  },
  {
   "cell_type": "code",
   "execution_count": 36,
   "metadata": {},
   "outputs": [],
   "source": [
    "assert((has_type_2.shape[0] * 2 + no_type_2.shape[0]) == wrangle_poke_fin.shape[0]) "
   ]
  },
  {
   "cell_type": "code",
   "execution_count": 37,
   "metadata": {},
   "outputs": [
    {
     "data": {
      "text/html": [
       "<div>\n",
       "<style scoped>\n",
       "    .dataframe tbody tr th:only-of-type {\n",
       "        vertical-align: middle;\n",
       "    }\n",
       "\n",
       "    .dataframe tbody tr th {\n",
       "        vertical-align: top;\n",
       "    }\n",
       "\n",
       "    .dataframe thead th {\n",
       "        text-align: right;\n",
       "    }\n",
       "</style>\n",
       "<table border=\"1\" class=\"dataframe\">\n",
       "  <thead>\n",
       "    <tr style=\"text-align: right;\">\n",
       "      <th></th>\n",
       "      <th>id</th>\n",
       "      <th>species</th>\n",
       "      <th>type</th>\n",
       "      <th>type_level</th>\n",
       "    </tr>\n",
       "  </thead>\n",
       "  <tbody>\n",
       "    <tr>\n",
       "      <th>802</th>\n",
       "      <td>426</td>\n",
       "      <td>drifblim</td>\n",
       "      <td>ghost</td>\n",
       "      <td>type_1</td>\n",
       "    </tr>\n",
       "    <tr>\n",
       "      <th>803</th>\n",
       "      <td>426</td>\n",
       "      <td>drifblim</td>\n",
       "      <td>flying</td>\n",
       "      <td>type_2</td>\n",
       "    </tr>\n",
       "    <tr>\n",
       "      <th>804</th>\n",
       "      <td>430</td>\n",
       "      <td>honchkrow</td>\n",
       "      <td>dark</td>\n",
       "      <td>type_1</td>\n",
       "    </tr>\n",
       "    <tr>\n",
       "      <th>805</th>\n",
       "      <td>430</td>\n",
       "      <td>honchkrow</td>\n",
       "      <td>flying</td>\n",
       "      <td>type_2</td>\n",
       "    </tr>\n",
       "    <tr>\n",
       "      <th>806</th>\n",
       "      <td>434</td>\n",
       "      <td>stunky</td>\n",
       "      <td>poison</td>\n",
       "      <td>type_1</td>\n",
       "    </tr>\n",
       "    <tr>\n",
       "      <th>807</th>\n",
       "      <td>434</td>\n",
       "      <td>stunky</td>\n",
       "      <td>dark</td>\n",
       "      <td>type_2</td>\n",
       "    </tr>\n",
       "    <tr>\n",
       "      <th>808</th>\n",
       "      <td>435</td>\n",
       "      <td>skuntank</td>\n",
       "      <td>poison</td>\n",
       "      <td>type_1</td>\n",
       "    </tr>\n",
       "    <tr>\n",
       "      <th>809</th>\n",
       "      <td>435</td>\n",
       "      <td>skuntank</td>\n",
       "      <td>dark</td>\n",
       "      <td>type_2</td>\n",
       "    </tr>\n",
       "    <tr>\n",
       "      <th>810</th>\n",
       "      <td>436</td>\n",
       "      <td>bronzor</td>\n",
       "      <td>steel</td>\n",
       "      <td>type_1</td>\n",
       "    </tr>\n",
       "    <tr>\n",
       "      <th>811</th>\n",
       "      <td>436</td>\n",
       "      <td>bronzor</td>\n",
       "      <td>psychic</td>\n",
       "      <td>type_2</td>\n",
       "    </tr>\n",
       "  </tbody>\n",
       "</table>\n",
       "</div>"
      ],
      "text/plain": [
       "      id    species     type type_level\n",
       "802  426   drifblim    ghost     type_1\n",
       "803  426   drifblim   flying     type_2\n",
       "804  430  honchkrow     dark     type_1\n",
       "805  430  honchkrow   flying     type_2\n",
       "806  434     stunky   poison     type_1\n",
       "807  434     stunky     dark     type_2\n",
       "808  435   skuntank   poison     type_1\n",
       "809  435   skuntank     dark     type_2\n",
       "810  436    bronzor    steel     type_1\n",
       "811  436    bronzor  psychic     type_2"
      ]
     },
     "execution_count": 37,
     "metadata": {},
     "output_type": "execute_result"
    }
   ],
   "source": [
    "wrangle_poke_fin[802:812]"
   ]
  },
  {
   "cell_type": "code",
   "execution_count": 38,
   "metadata": {},
   "outputs": [],
   "source": [
    "#  Recall that value_counts is in sorted order desc\n",
    "type_counts = wrangle_poke_fin[\"type\"].value_counts()\n",
    "type_order = type_counts.index"
   ]
  },
  {
   "cell_type": "code",
   "execution_count": 39,
   "metadata": {},
   "outputs": [
    {
     "data": {
      "image/png": "[encoded data removed]",
      "text/plain": [
       "<Figure size 432x288 with 1 Axes>"
      ]
     },
     "metadata": {
      "needs_background": "light"
     },
     "output_type": "display_data"
    }
   ],
   "source": [
    "base_color = sb.color_palette()[0]\n",
    "sb.countplot(data=wrangle_poke_fin, y=\"type\",  color=base_color,\n",
    "             order=type_order);"
   ]
  },
  {
   "cell_type": "code",
   "execution_count": 40,
   "metadata": {},
   "outputs": [
    {
     "data": {
      "image/png": "[encoded data removed]",
      "text/plain": [
       "<Figure size 432x288 with 1 Axes>"
      ]
     },
     "metadata": {
      "needs_background": "light"
     },
     "output_type": "display_data"
    }
   ],
   "source": [
    "# Now we want to see what porportion of pokemon have each type\n",
    "\n",
    "# A simple way to do this is to get the poportion of the largest bar and\n",
    "# then just change the x ticks to poportion\n",
    "\n",
    "# First we get the porportions\n",
    "n_pokemon = pokemon.shape[0]\n",
    "max_type_count = type_counts[0]\n",
    "max_prop = max_type_count/ n_pokemon\n",
    "\n",
    "tick_props = np.arange(0, max_prop, 0.02)\n",
    "tick_names = ['{:0.2f}'.format(v) for v in tick_props]\n",
    "\n",
    "# Then we build the plot and use plt.xticks\n",
    "\n",
    "base_color = sb.color_palette()[0]\n",
    "sb.countplot(data=wrangle_poke_fin, y=\"type\",  color=base_color,\n",
    "             order=type_order);\n",
    "\n",
    "# Because this will give us how many pokemon are at each tick\n",
    "# position, which we will use for the absolute location\n",
    "\n",
    "# also note that the second argument is the labels which we use\n",
    "plt.xticks(tick_props * n_pokemon, tick_names);\n",
    "plt.xlabel('porportion');\n"
   ]
  },
  {
   "cell_type": "code",
   "execution_count": 41,
   "metadata": {},
   "outputs": [
    {
     "data": {
      "image/png": "[encoded data removed]",
      "text/plain": [
       "<Figure size 432x288 with 1 Axes>"
      ]
     },
     "metadata": {
      "needs_background": "light"
     },
     "output_type": "display_data"
    }
   ],
   "source": [
    "# Same as above, but draw the % at end of each bar\n",
    "base_color = sb.color_palette()[0]\n",
    "sb.countplot(data=wrangle_poke_fin, y=\"type\",  color=base_color,\n",
    "             order=type_order);\n",
    "for i in range(type_counts.shape[0]):\n",
    "    count = type_counts[i]\n",
    "    pct_str = '{:0.1f}%'.format(100*count / n_pokemon)\n",
    "    # first is x and yposition, third is what gets printed\n",
    "    # fourth centers the vertical alignment on the text on a bar\n",
    "    plt.text(count+1, i, pct_str, va=\"center\")"
   ]
  },
  {
   "cell_type": "markdown",
   "metadata": {},
   "source": [
    "### Bar Charts for missing data\n",
    "\n",
    "We will take the variable names as levels of categorical variables\n",
    "and create a resulting bar plot"
   ]
  },
  {
   "cell_type": "code",
   "execution_count": 42,
   "metadata": {},
   "outputs": [
    {
     "data": {
      "text/plain": [
       "id                   0\n",
       "species              0\n",
       "generation_id        0\n",
       "height               0\n",
       "weight               0\n",
       "base_experience      0\n",
       "type_1               0\n",
       "type_2             402\n",
       "hp                   0\n",
       "attack               0\n",
       "defense              0\n",
       "speed                0\n",
       "special-attack       0\n",
       "special-defense      0\n",
       "dtype: int64"
      ]
     },
     "execution_count": 42,
     "metadata": {},
     "output_type": "execute_result"
    }
   ],
   "source": [
    "pokemon.isna().sum()"
   ]
  },
  {
   "cell_type": "code",
   "execution_count": 43,
   "metadata": {},
   "outputs": [
    {
     "data": {
      "image/png": "[encoded data removed]",
      "text/plain": [
       "<Figure size 432x288 with 1 Axes>"
      ]
     },
     "metadata": {
      "needs_background": "light"
     },
     "output_type": "display_data"
    }
   ],
   "source": [
    "na_counts = pokemon.isna().sum()\n",
    "base_color = sb.color_palette()[0]\n",
    "# NOte: bar plot is data that is already summarized while count plot\n",
    "# will summarize the data for us\n",
    "\n",
    "# But barplot is mainly used for adapting univariate plots for plotting\n",
    "# bivariate data\n",
    "sb.barplot(na_counts.index.values, na_counts, color=base_color);\n",
    "plt.xticks(rotation=90);"
   ]
  },
  {
   "cell_type": "markdown",
   "metadata": {},
   "source": [
    "### Practice: Bar Charts"
   ]
  },
  {
   "cell_type": "markdown",
   "metadata": {},
   "source": [
    "### 1) Generate a bar chart for generations of pokemon"
   ]
  },
  {
   "cell_type": "code",
   "execution_count": 44,
   "metadata": {},
   "outputs": [
    {
     "name": "stdout",
     "output_type": "stream",
     "text": [
      "<class 'pandas.core.frame.DataFrame'>\n",
      "RangeIndex: 807 entries, 0 to 806\n",
      "Data columns (total 14 columns):\n",
      " #   Column           Non-Null Count  Dtype  \n",
      "---  ------           --------------  -----  \n",
      " 0   id               807 non-null    int64  \n",
      " 1   species          807 non-null    object \n",
      " 2   generation_id    807 non-null    int64  \n",
      " 3   height           807 non-null    float64\n",
      " 4   weight           807 non-null    float64\n",
      " 5   base_experience  807 non-null    int64  \n",
      " 6   type_1           807 non-null    object \n",
      " 7   type_2           405 non-null    object \n",
      " 8   hp               807 non-null    int64  \n",
      " 9   attack           807 non-null    int64  \n",
      " 10  defense          807 non-null    int64  \n",
      " 11  speed            807 non-null    int64  \n",
      " 12  special-attack   807 non-null    int64  \n",
      " 13  special-defense  807 non-null    int64  \n",
      "dtypes: float64(2), int64(9), object(3)\n",
      "memory usage: 88.4+ KB\n"
     ]
    }
   ],
   "source": [
    "pokemon.info()"
   ]
  },
  {
   "cell_type": "code",
   "execution_count": 45,
   "metadata": {},
   "outputs": [
    {
     "data": {
      "image/png": "[encoded data removed]",
      "text/plain": [
       "<Figure size 432x288 with 1 Axes>"
      ]
     },
     "metadata": {
      "needs_background": "light"
     },
     "output_type": "display_data"
    }
   ],
   "source": [
    "base_color = sb.color_palette()[0]\n",
    "poke_counts = pokemon[\"generation_id\"].value_counts()\n",
    "poke_order = poke_counts.index\n",
    "sb.countplot(data=pokemon, x='generation_id',\n",
    "             color=base_color,  order=poke_order);\n",
    "plt.title(\"Pokemon for each generation\");\n",
    "n_pokemon = pokemon.shape[0]\n",
    "loc, labels = plt.xticks()\n",
    "for loc, label in zip(loc, labels):\n",
    "    count = poke_counts[int(label.get_text())]\n",
    "    pct_str = '{:0.02f}%'.format(count * 100 / n_pokemon)\n",
    "    plt.text(loc, count-8, pct_str, ha=\"center\",  color=\"w\")"
   ]
  },
  {
   "cell_type": "code",
   "execution_count": 46,
   "metadata": {},
   "outputs": [
    {
     "data": {
      "text/html": [
       "<div>\n",
       "<style scoped>\n",
       "    .dataframe tbody tr th:only-of-type {\n",
       "        vertical-align: middle;\n",
       "    }\n",
       "\n",
       "    .dataframe tbody tr th {\n",
       "        vertical-align: top;\n",
       "    }\n",
       "\n",
       "    .dataframe thead th {\n",
       "        text-align: right;\n",
       "    }\n",
       "</style>\n",
       "<table border=\"1\" class=\"dataframe\">\n",
       "  <thead>\n",
       "    <tr style=\"text-align: right;\">\n",
       "      <th></th>\n",
       "      <th>id</th>\n",
       "      <th>species</th>\n",
       "      <th>type_level</th>\n",
       "      <th>type</th>\n",
       "    </tr>\n",
       "  </thead>\n",
       "  <tbody>\n",
       "    <tr>\n",
       "      <th>0</th>\n",
       "      <td>1</td>\n",
       "      <td>bulbasaur</td>\n",
       "      <td>type_1</td>\n",
       "      <td>grass</td>\n",
       "    </tr>\n",
       "    <tr>\n",
       "      <th>1</th>\n",
       "      <td>2</td>\n",
       "      <td>ivysaur</td>\n",
       "      <td>type_1</td>\n",
       "      <td>grass</td>\n",
       "    </tr>\n",
       "    <tr>\n",
       "      <th>2</th>\n",
       "      <td>3</td>\n",
       "      <td>venusaur</td>\n",
       "      <td>type_1</td>\n",
       "      <td>grass</td>\n",
       "    </tr>\n",
       "    <tr>\n",
       "      <th>3</th>\n",
       "      <td>4</td>\n",
       "      <td>charmander</td>\n",
       "      <td>type_1</td>\n",
       "      <td>fire</td>\n",
       "    </tr>\n",
       "    <tr>\n",
       "      <th>4</th>\n",
       "      <td>5</td>\n",
       "      <td>charmeleon</td>\n",
       "      <td>type_1</td>\n",
       "      <td>fire</td>\n",
       "    </tr>\n",
       "  </tbody>\n",
       "</table>\n",
       "</div>"
      ],
      "text/plain": [
       "   id     species type_level   type\n",
       "0   1   bulbasaur     type_1  grass\n",
       "1   2     ivysaur     type_1  grass\n",
       "2   3    venusaur     type_1  grass\n",
       "3   4  charmander     type_1   fire\n",
       "4   5  charmeleon     type_1   fire"
      ]
     },
     "execution_count": 46,
     "metadata": {},
     "output_type": "execute_result"
    }
   ],
   "source": [
    "# Note: melt is good when we want to unpivot data frame\n",
    "# This is kind of like pivot table where we turn rows into\n",
    "# columns and columns into rows. This would become more useful\n",
    "# as I learn more about pivot tables\n",
    "\n",
    "# note that as I get better at analyzing data in excel and I want\n",
    "# to reproduce advanced spreadsheet functionality I would be using\n",
    "# methods like this\n",
    "pkmn_types = pokemon.melt(id_vars = ['id','species'], \n",
    "                          value_vars = ['type_1', 'type_2'], \n",
    "                          var_name = 'type_level', value_name = 'type').dropna()\n",
    "pkmn_types.head()"
   ]
  },
  {
   "cell_type": "code",
   "execution_count": 114,
   "metadata": {
    "scrolled": true
   },
   "outputs": [
    {
     "data": {
      "image/png": "[encoded data removed]",
      "text/plain": [
       "<Figure size 432x288 with 1 Axes>"
      ]
     },
     "metadata": {
      "needs_background": "light"
     },
     "output_type": "display_data"
    }
   ],
   "source": [
    "# we want to create a relative frequency plot\n",
    "base_color = sb.color_palette()[0]\n",
    "sb.countplot(data=pkmn_types, y= 'type', color=base_color,\n",
    "             order=pkmn_types['type'].value_counts().index)\n",
    "n_pokemon = pokemon.shape[0]\n",
    "max_type = pkmn_types['type'].value_counts()[0]\n",
    "porportion = round(max_type / n_pokemon, 3)\n",
    "ticks =  np.arange(0, porportion,0.02)\n",
    "labels = ['{}%'.format(int(v*100)) for v in ticks]\n",
    "plt.xticks(ticks=ticks * n_pokemon + 3, labels=labels);\n",
    "plt.xlabel(\"Percentage\");\n",
    "plt.title(\"Pokemon Types\");"
   ]
  },
  {
   "cell_type": "markdown",
   "metadata": {},
   "source": [
    "### Pie Charts, Donut Charts, Waffle Charts\n",
    "\n",
    "Used for relative frequencies for qualitative variables. Area is relative frequency. Also donut plot is same thing but uses arcs and is shaped like a donut (center removed).\n",
    "\n",
    "Bar charts are better usually. It is hard to get the relative frequencies from pie charts alone. It is even worse if we have a lot of categories. Bar charts should be first choice\n",
    "\n",
    "Pie/ Donut charts should only be used if:\n",
    "\n",
    "- We are showing how the data is broken down into parts\n",
    "\n",
    "- Only need a small amount of slices (2 or 3 typically)\n",
    "\n",
    "\n",
    "Start plotting from 12 oclock position and then plot from there. Start with most relative to least relative. Or if we have three categories plot and we want to compare two put the two on either side of 12 oclock and the fill the missing bottom with other category\n",
    "\n",
    "Donut plots should be used in similar circumstances that pie charts. Only difference is aesthetic. We might want to put summary statistics in the donut hole.\n",
    "\n",
    "We use pyplot.pie function, which requires the primary argument to be in summarized form and to be wedge sizes\n",
    "\n",
    "`PyWaffle` is a package to build waffle charts. Waffle charts display the same thing as pie charts and donut charts, but they are much easier to read. They use blocks highlighted in a square to signify area for the different categories."
   ]
  },
  {
   "cell_type": "code",
   "execution_count": 103,
   "metadata": {},
   "outputs": [
    {
     "data": {
      "image/png": "[encoded data removed]",
      "text/plain": [
       "<Figure size 432x288 with 1 Axes>"
      ]
     },
     "metadata": {},
     "output_type": "display_data"
    }
   ],
   "source": [
    "# Pie\n",
    "sorted_counts = pokemon.generation_id.value_counts()\n",
    "plt.pie(sorted_counts, labels=sorted_counts.index, startangle=90, counterclock=False);\n",
    "plt.axis(\"square\");"
   ]
  },
  {
   "cell_type": "code",
   "execution_count": 106,
   "metadata": {},
   "outputs": [
    {
     "data": {
      "image/png": "[encoded data removed]",
      "text/plain": [
       "<Figure size 432x288 with 1 Axes>"
      ]
     },
     "metadata": {},
     "output_type": "display_data"
    }
   ],
   "source": [
    "# Donut\n",
    "sorted_counts = pokemon.generation_id.value_counts()\n",
    "plt.pie(sorted_counts, labels=sorted_counts.index, startangle=90,\n",
    "        counterclock=False, wedgeprops = {'width': 0.4});\n",
    "plt.axis(\"square\");"
   ]
  },
  {
   "cell_type": "markdown",
   "metadata": {},
   "source": [
    "### Histograms\n",
    "\n",
    "Quantitative variable plot of choice is histogram. Similar to bar chart, we have feature values on the x axis and frequency count on the y axis. Because of quantitative feature values we bin the values into ranges. Bins include values on their right end for boundaries. So at boundary 6 we would include 6.0 as a count for that point.\n",
    "\n",
    "Size of bins has major effect on how we interpret data. Bin size too large we will lose a lot of information on the overall distribution. If they are too small we will have too much noise and we will lose trends in data. Usually we want to play around with bin size and boundary point parameters to get good balance.\n",
    "\n",
    "`plt.hist()` is how we create a histogram. Matplotlib splits data by default into 10 bins which is usually too few. And the bin boundaries aren't inline with tick marks so interpretation could be touch. `bins` parameter helps us here. If we specify the bins oursef we usually get a better tick alignment then just specifying the number of bins and having them break it up for us.\n",
    "\n",
    "Seaborn also has a histogram plot `distplot` that takes in a pandas series. Default bin count is larger then in matplotlib and we get a line (density curve estimate of the distribution\n",
    "\n",
    "Density Curve Estimation (KDE plot Kernel Density Plot). It is used to estimate the probability density function of a variable. They are hard to read and usually require computer assistance to accurately estimate the area under the curve. But we can take two values on the x axis and comute the area under the curve to get the probability."
   ]
  },
  {
   "cell_type": "code",
   "execution_count": 117,
   "metadata": {},
   "outputs": [
    {
     "data": {
      "image/png": "[encoded data removed]",
      "text/plain": [
       "<Figure size 432x288 with 1 Axes>"
      ]
     },
     "metadata": {
      "needs_background": "light"
     },
     "output_type": "display_data"
    }
   ],
   "source": [
    "bins = np.arange(0, pokemon.speed.max()+5, 5)\n",
    "\n",
    "plt.hist(data=pokemon, x='speed', bins=bins);"
   ]
  },
  {
   "cell_type": "code",
   "execution_count": 161,
   "metadata": {},
   "outputs": [
    {
     "data": {
      "image/png": "[encoded data removed]",
      "text/plain": [
       "<Figure size 720x360 with 3 Axes>"
      ]
     },
     "metadata": {
      "needs_background": "light"
     },
     "output_type": "display_data"
    }
   ],
   "source": [
    "# Multiple histograms next to each other\n",
    "plt.figure(figsize= [10, 5])\n",
    "# 1 row 2 columns subplot 1\n",
    "plt.subplot(2, 2, 1)\n",
    "bin_edges = np.arange(0, pokemon[\"speed\"].max()+1, 20)\n",
    "plt.hist(data=pokemon, x='speed', bins=bin_edges);\n",
    "\n",
    "plt.subplot(2, 2, 2)\n",
    "bin_edges = np.arange(0, pokemon[\"speed\"].max()+1, 5)\n",
    "plt.hist(data=pokemon, x='speed', bins=bin_edges);\n",
    "\n",
    "plt.subplot(2, 2, 3)\n",
    "bin_edges = np.arange(0, pokemon[\"speed\"].max()+1, 1)\n",
    "plt.hist(data=pokemon, x='speed', bins=bin_edges);"
   ]
  },
  {
   "cell_type": "code",
   "execution_count": 135,
   "metadata": {
    "scrolled": false
   },
   "outputs": [
    {
     "data": {
      "image/png": "[encoded data removed]",
      "text/plain": [
       "<Figure size 432x288 with 1 Axes>"
      ]
     },
     "metadata": {
      "needs_background": "light"
     },
     "output_type": "display_data"
    }
   ],
   "source": [
    "bin_edges = np.arange(0, pokemon[\"speed\"].max()+1, 5)\n",
    "sb.distplot(pokemon['speed'], bins = bin_edges, hist_kws = {'alpha' :0.4});"
   ]
  },
  {
   "cell_type": "code",
   "execution_count": 124,
   "metadata": {
    "scrolled": true
   },
   "outputs": [
    {
     "data": {
      "image/png": "[encoded data removed]",
      "text/plain": [
       "<Figure size 432x288 with 1 Axes>"
      ]
     },
     "metadata": {
      "needs_background": "light"
     },
     "output_type": "display_data"
    }
   ],
   "source": [
    "# We can get kernel density estmation line off with kde set to False\n",
    "sb.distplot(pokemon['speed'], kde=False);"
   ]
  },
  {
   "cell_type": "code",
   "execution_count": 142,
   "metadata": {
    "scrolled": true
   },
   "outputs": [
    {
     "data": {
      "image/png": "[encoded data removed]",
      "text/plain": [
       "<Figure size 432x288 with 1 Axes>"
      ]
     },
     "metadata": {
      "needs_background": "light"
     },
     "output_type": "display_data"
    }
   ],
   "source": [
    "# Special Defense Histogram\n",
    "bin_edges = np.arange(0, pokemon[\"special-defense\"].max() + 5, 5)\n",
    "plt.hist(data=pokemon, x=\"special-defense\", bins=bin_edges);\n"
   ]
  },
  {
   "cell_type": "code",
   "execution_count": 146,
   "metadata": {},
   "outputs": [
    {
     "data": {
      "image/png": "[encoded data removed]",
      "text/plain": [
       "<Figure size 432x288 with 1 Axes>"
      ]
     },
     "metadata": {
      "needs_background": "light"
     },
     "output_type": "display_data"
    }
   ],
   "source": [
    "bin_edges = np.arange(0, pokemon[\"special-defense\"].max() + 5, 5)\n",
    "sb.distplot(pokemon[\"special-defense\"], bins=bin_edges);"
   ]
  },
  {
   "cell_type": "markdown",
   "metadata": {},
   "source": [
    "### Figures, Axes, Subplots\n",
    "\n",
    "We saw the use of `subplot()` being used to create side by side plots. Here we will see that and `figure()` to structure visualizations and subplots inner workings.\n",
    "\n",
    "Base of visualization is a `Figure()` object. Within `Figure()` object we have one or e more `Axes()` objects. Each `Axes()` object will contain a number of other elements that  represent each plot. \n",
    "\n",
    "For function `plt.hist(data=df, x='num_var')`, because there is no `Figure()` object Python will first create a `Figure()` object. Since the `Figure()` doesn't have any `Axes()` objects to draw on, `Axes()` objects are created within the figure. The histogram is then drawn within that `Axes()`.\n",
    "\n",
    "Knowing the hierarchy of objects will allow us to take more control over the layout and aesthetics of the plot. \n",
    "\n",
    "Below is creating the figure then the axes the drawing the figure on the axes."
   ]
  },
  {
   "cell_type": "code",
   "execution_count": 163,
   "metadata": {},
   "outputs": [
    {
     "data": {
      "image/png": "[encoded data removed]",
      "text/plain": [
       "<Figure size 432x288 with 1 Axes>"
      ]
     },
     "metadata": {
      "needs_background": "light"
     },
     "output_type": "display_data"
    }
   ],
   "source": [
    "fig = plt.figure()\n",
    "# Dimensions of axis. Lower left corner for two first arguments then height, width for\n",
    "# second two arguments\n",
    "ax = fig.add_axes([.125, .125, .775, .755])\n",
    "# We then use the axes object to create a histogram. This is the same as `plt.hist()`\n",
    "ax.hist(data = pokemon, x = 'speed');"
   ]
  },
  {
   "cell_type": "code",
   "execution_count": 166,
   "metadata": {},
   "outputs": [
    {
     "data": {
      "image/png": "[encoded data removed]",
      "text/plain": [
       "<Figure size 432x288 with 1 Axes>"
      ]
     },
     "metadata": {
      "needs_background": "light"
     },
     "output_type": "display_data"
    }
   ],
   "source": [
    "# We can also use axes objects with seaborn in the ax parameter\n",
    "fig = plt.figure()\n",
    "base_color = sb.color_palette()[0]\n",
    "ax = fig.add_axes([.125, .125, .775, .755])\n",
    "sb.countplot(data=pokemon, x='generation_id', color=base_color,\n",
    "            order=pokemon['generation_id'].value_counts().index, ax=ax);"
   ]
  },
  {
   "cell_type": "markdown",
   "metadata": {},
   "source": [
    " There is no point of targetting a `Figure()` or `Axes()` object directly because by default it will traget the most recent `Figure()` or `Axes()` objects\n",
    "```python\n",
    "plt.figure(figsize = [10, 5]) # larger figure size for subplots\n",
    "# example of somewhat too-large bin size\n",
    "plt.subplot(1, 2, 1) # 1 row, 2 cols, subplot 1\n",
    "bin_edges = np.arange(0, df['num_var'].max()+4, 4)\n",
    "plt.hist(data = df, x = 'num_var', bins = bin_edges)\n",
    "\n",
    "# example of somewhat too-small bin size\n",
    "plt.subplot(1, 2, 2) # 1 row, 2 cols, subplot 2\n",
    "bin_edges = np.arange(0, df['num_var'].max()+1/4, 1/4)\n",
    "plt.hist(data = df, x = 'num_var', bins = bin_edges)\n",
    "```\n",
    "\n",
    "`plt.figure(figsize =[10,5])` creates the new figure with width 10 inches and heighy 5 inches. Without any variable assignment, Python can implicitly knows that that is the active figure because it is the most recent.\n",
    "\n",
    "`plt.subplot(1,2,1)` creates a new `Axes()` in our figure and the size is deterimned by the function agruments. We are told to divide the first figure into one row and two columns.  Third column says to create the new `Axes()` in the first spot. We index the plots by 1 level indexing. The current `Axes()` to draw on is the latest one called.\n",
    "\n",
    "Also note:\n",
    "\n",
    "We can get the current axes `ax = plt.gca()` and we can list all `Axes()` from figure with `axes=fig.get_axes()`. We can also add subplots to `Figure` with `fig.add_subplot()`.\n",
    "We can also create multiple subplots with `plt.subplots()`"
   ]
  },
  {
   "cell_type": "code",
   "execution_count": 167,
   "metadata": {},
   "outputs": [
    {
     "data": {
      "image/png": "[encoded data removed]",
      "text/plain": [
       "<Figure size 432x288 with 12 Axes>"
      ]
     },
     "metadata": {
      "needs_background": "light"
     },
     "output_type": "display_data"
    }
   ],
   "source": [
    "fig, axes = plt.subplots(3, 4) # grid of 3x4 subplots\n",
    "axes = axes.flatten() # reshape from 3x4 array into 12-element vector\n",
    "for i in range(12):\n",
    "    plt.sca(axes[i]) # set the current Axes\n",
    "    plt.text(0.5, 0.5, i+1) # print conventional subplot index number to middle of Axes"
   ]
  },
  {
   "cell_type": "markdown",
   "metadata": {},
   "source": [
    "### Choosing a plot for discrete data\n",
    "\n",
    "We can choose either a histogram or a bar chart to decpict quantitative discrete data. However if we choose a histogram (the more immediate choice) we should put the bin edges between actual values in the data.\n",
    "\n",
    "We see 3 examples. One where it is ambigious by having the xticks at the boundary. The other has them connected but the values show below the bar. The third is a bar graph.\n",
    "\n",
    "Do note though that by spacing them it does look like ordinal data.\n",
    "\n",
    "Also note that with continuous data it is not smart to place spaces, as spaces are for discrete data.\n",
    "\n",
    "Also be careful with lots of discrete values. It would be better to bin them then to treat them as categorical variables. \n",
    "\n",
    "Obviously, never use a histogram for ordinal data because we need the spaces.\n",
    "\n",
    "Also be careful with seaborns `countpot()` missing values with 0 (1,2,3,5 wont plot 4 in x axis)"
   ]
  },
  {
   "cell_type": "code",
   "execution_count": 183,
   "metadata": {},
   "outputs": [
    {
     "data": {
      "image/png": "[encoded data removed]",
      "text/plain": [
       "<Figure size 720x360 with 2 Axes>"
      ]
     },
     "metadata": {
      "needs_background": "light"
     },
     "output_type": "display_data"
    }
   ],
   "source": [
    "plt.figure(figsize = [10, 5])\n",
    "die_rolls = np.random.randint(1,13, 100)\n",
    "# histogram on the left, bin edges on integers\n",
    "plt.subplot(1, 2, 1)\n",
    "bin_edges = np.arange(2, 12+1.1, 1) # note `+1.1`, see below\n",
    "plt.hist(die_rolls, bins = bin_edges)\n",
    "plt.xticks(np.arange(2, 12+1, 1))\n",
    "\n",
    "# histogram on the right, bin edges between integers\n",
    "plt.subplot(1, 2, 2)\n",
    "bin_edges = np.arange(1.5, 12.5+1, 1)\n",
    "plt.hist(die_rolls, bins = bin_edges)\n",
    "plt.xticks(np.arange(2, 12+1, 1));"
   ]
  },
  {
   "cell_type": "code",
   "execution_count": 189,
   "metadata": {},
   "outputs": [
    {
     "data": {
      "image/png": "[encoded data removed]",
      "text/plain": [
       "<Figure size 432x288 with 1 Axes>"
      ]
     },
     "metadata": {
      "needs_background": "light"
     },
     "output_type": "display_data"
    }
   ],
   "source": [
    "# histogram on the right, bin edges between integers\n",
    "bin_edges = np.arange(1.5, 12.5+1, 1)\n",
    "# rwidth means bars take up 70% of width of plot\n",
    "plt.hist(die_rolls, bins = bin_edges, rwidth=0.7)\n",
    "plt.xticks(np.arange(2, 12+1, 1));"
   ]
  },
  {
   "cell_type": "markdown",
   "metadata": {},
   "source": [
    "### Descriptive Statistics, Outliers, and Axis Limits\n",
    "\n",
    "We will see a lot more in our visualizations then by descriptive statistics alone. Like we will see the skew (which shows us mean V mediam) and if our data is unimodal or bimodal or multimodal. \n",
    "\n",
    "They can also show us interesting areas for further investigation and clarification. For example if we have very low counts in a bar chart it might indicate errors in our data or if bars have values that counter expectations then we might need to do research on data assumptions. E.g. if we have a lot more data in January it might be that people are skipping the survey.\n",
    "\n",
    "If we see a lot of range in a histogram we might have outliers. Or if our data is highly skewed we might want to change the range on the data plotted so we can zoom into more interesting data. Rather then filtering data source we can change access limits to zoom in on particular part of data.\n",
    "\n",
    "\n",
    "\n"
   ]
  },
  {
   "cell_type": "code",
   "execution_count": 206,
   "metadata": {},
   "outputs": [
    {
     "data": {
      "image/png": "[encoded data removed]",
      "text/plain": [
       "<Figure size 432x288 with 1 Axes>"
      ]
     },
     "metadata": {
      "needs_background": "light"
     },
     "output_type": "display_data"
    }
   ],
   "source": [
    "# Histogram of pokemon heights\n",
    "bins = np.arange(0,  pokemon[\"height\"].max()+0.2, 0.2)\n",
    "plt.hist(data=pokemon, x=\"height\", bins=bins);\n",
    "plt.xlim((0,6));\n",
    "# Shows that most pokemon are relatively human size or smaller not many more then that"
   ]
  },
  {
   "cell_type": "markdown",
   "metadata": {},
   "source": [
    "### Scales and Transformations\n",
    "\n",
    "Sometimes we don't want to just change access limits but scaling. We typically assume we want to see data linearly with differences being put to attention.\n",
    "\n",
    "But in other cases we want to see differences in terms of ratios or percentages.\n",
    "\n",
    "A classic example is financial data. Say we have vehicle price data. It typically is a range across many orders of magnitude usually skewed right. Our plot has tons of gaps for highest values. \n",
    "\n",
    "We can instead use logarithmic scaing so we go  up from 5K to 10K to 20K to 40K to 80K to 160K. So here we have 50% growth in tick marks from previous.\n",
    "\n",
    "This is lognormal distribution, where the shape is normal after a logarthmic transformation. We can then think that building a model for the logarathim of prices is better. Linear changes in predictive features will result in multiplicative features in the price. Note also that we could never reach zero or a negative number in logarthmic model.\n",
    "\n",
    "Axis transformations are useful because we can interpret data with naturally recorded units. For example if we apply the transformation directly on the data we would have to know that 4.6 to the 10th power is 40K which requires us to do the inverse translation in our head.\n",
    "\n",
    "Even though when we perform analysis we would want to transform the data directly during the visualization it would be best to perform an axes translation.\n",
    "\n"
   ]
  },
  {
   "cell_type": "code",
   "execution_count": 212,
   "metadata": {},
   "outputs": [
    {
     "data": {
      "text/plain": [
       "count    2.906874\n",
       "mean     1.790786\n",
       "std      2.047350\n",
       "min     -1.000000\n",
       "25%      0.954243\n",
       "50%      1.431364\n",
       "75%      1.799341\n",
       "max      2.999957\n",
       "Name: weight, dtype: float64"
      ]
     },
     "execution_count": 212,
     "metadata": {},
     "output_type": "execute_result"
    }
   ],
   "source": [
    "# We can see here that the ticks we want are between -1 and 3 in our range\n",
    "np.log10(pokemon[\"weight\"].describe())"
   ]
  },
  {
   "cell_type": "code",
   "execution_count": 220,
   "metadata": {},
   "outputs": [
    {
     "data": {
      "image/png": "[encoded data removed]",
      "text/plain": [
       "<Figure size 432x288 with 1 Axes>"
      ]
     },
     "metadata": {
      "needs_background": "light"
     },
     "output_type": "display_data"
    }
   ],
   "source": [
    "bins = 10 ** np.arange(-1, 3 + 0.1,0.1)\n",
    "ticks = [0.1, 0.3, 1, 3, 10, 30, 100, 1000]\n",
    "labels = ['{}'.format(v) for v in ticks]\n",
    "plt.hist(data=pokemon, x=\"weight\", bins=bins);\n",
    "plt.xscale(\"log\");\n",
    "plt.xticks(ticks, labels);\n",
    "plt.ylabel(\"Count\")\n",
    "plt.xlabel(\"Weight (Log scale)\")\n",
    "plt.title(\"Pokemon Weights\");"
   ]
  }
 ],
 "metadata": {
  "kernelspec": {
   "display_name": "Python 3",
   "language": "python",
   "name": "python3"
  },
  "language_info": {
   "codemirror_mode": {
    "name": "ipython",
    "version": 3
   },
   "file_extension": ".py",
   "mimetype": "text/x-python",
   "name": "python",
   "nbconvert_exporter": "python",
   "pygments_lexer": "ipython3",
   "version": "3.7.6"
  }
 },
 "nbformat": 4,
 "nbformat_minor": 4
}
